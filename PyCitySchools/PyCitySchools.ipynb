{
 "cells": [
  {
   "cell_type": "markdown",
   "id": "fbf06ebf-ee40-45fa-999e-b0471936cc67",
   "metadata": {},
   "source": [
    "Analysis"
   ]
  },
  {
   "cell_type": "code",
   "execution_count": 11,
   "id": "377b1c33-3389-46e1-8d7d-bce64491beb0",
   "metadata": {},
   "outputs": [
    {
     "data": {
      "text/html": [
       "<div>\n",
       "<style scoped>\n",
       "    .dataframe tbody tr th:only-of-type {\n",
       "        vertical-align: middle;\n",
       "    }\n",
       "\n",
       "    .dataframe tbody tr th {\n",
       "        vertical-align: top;\n",
       "    }\n",
       "\n",
       "    .dataframe thead th {\n",
       "        text-align: right;\n",
       "    }\n",
       "</style>\n",
       "<table border=\"1\" class=\"dataframe\">\n",
       "  <thead>\n",
       "    <tr style=\"text-align: right;\">\n",
       "      <th></th>\n",
       "      <th>Student ID</th>\n",
       "      <th>student_name</th>\n",
       "      <th>gender</th>\n",
       "      <th>grade</th>\n",
       "      <th>school_name</th>\n",
       "      <th>reading_score</th>\n",
       "      <th>math_score</th>\n",
       "      <th>School ID</th>\n",
       "      <th>type</th>\n",
       "      <th>size</th>\n",
       "      <th>budget</th>\n",
       "    </tr>\n",
       "  </thead>\n",
       "  <tbody>\n",
       "    <tr>\n",
       "      <th>0</th>\n",
       "      <td>0</td>\n",
       "      <td>Paul Bradley</td>\n",
       "      <td>M</td>\n",
       "      <td>9th</td>\n",
       "      <td>Huang High School</td>\n",
       "      <td>66</td>\n",
       "      <td>79</td>\n",
       "      <td>0</td>\n",
       "      <td>District</td>\n",
       "      <td>2917</td>\n",
       "      <td>1910635</td>\n",
       "    </tr>\n",
       "    <tr>\n",
       "      <th>1</th>\n",
       "      <td>1</td>\n",
       "      <td>Victor Smith</td>\n",
       "      <td>M</td>\n",
       "      <td>12th</td>\n",
       "      <td>Huang High School</td>\n",
       "      <td>94</td>\n",
       "      <td>61</td>\n",
       "      <td>0</td>\n",
       "      <td>District</td>\n",
       "      <td>2917</td>\n",
       "      <td>1910635</td>\n",
       "    </tr>\n",
       "    <tr>\n",
       "      <th>2</th>\n",
       "      <td>2</td>\n",
       "      <td>Kevin Rodriguez</td>\n",
       "      <td>M</td>\n",
       "      <td>12th</td>\n",
       "      <td>Huang High School</td>\n",
       "      <td>90</td>\n",
       "      <td>60</td>\n",
       "      <td>0</td>\n",
       "      <td>District</td>\n",
       "      <td>2917</td>\n",
       "      <td>1910635</td>\n",
       "    </tr>\n",
       "    <tr>\n",
       "      <th>3</th>\n",
       "      <td>3</td>\n",
       "      <td>Dr. Richard Scott</td>\n",
       "      <td>M</td>\n",
       "      <td>12th</td>\n",
       "      <td>Huang High School</td>\n",
       "      <td>67</td>\n",
       "      <td>58</td>\n",
       "      <td>0</td>\n",
       "      <td>District</td>\n",
       "      <td>2917</td>\n",
       "      <td>1910635</td>\n",
       "    </tr>\n",
       "    <tr>\n",
       "      <th>4</th>\n",
       "      <td>4</td>\n",
       "      <td>Bonnie Ray</td>\n",
       "      <td>F</td>\n",
       "      <td>9th</td>\n",
       "      <td>Huang High School</td>\n",
       "      <td>97</td>\n",
       "      <td>84</td>\n",
       "      <td>0</td>\n",
       "      <td>District</td>\n",
       "      <td>2917</td>\n",
       "      <td>1910635</td>\n",
       "    </tr>\n",
       "  </tbody>\n",
       "</table>\n",
       "</div>"
      ],
      "text/plain": [
       "   Student ID       student_name gender grade        school_name  \\\n",
       "0           0       Paul Bradley      M   9th  Huang High School   \n",
       "1           1       Victor Smith      M  12th  Huang High School   \n",
       "2           2    Kevin Rodriguez      M  12th  Huang High School   \n",
       "3           3  Dr. Richard Scott      M  12th  Huang High School   \n",
       "4           4         Bonnie Ray      F   9th  Huang High School   \n",
       "\n",
       "   reading_score  math_score  School ID      type  size   budget  \n",
       "0             66          79          0  District  2917  1910635  \n",
       "1             94          61          0  District  2917  1910635  \n",
       "2             90          60          0  District  2917  1910635  \n",
       "3             67          58          0  District  2917  1910635  \n",
       "4             97          84          0  District  2917  1910635  "
      ]
     },
     "execution_count": 11,
     "metadata": {},
     "output_type": "execute_result"
    }
   ],
   "source": [
    "# Setup \n",
    "import pandas as pd\n",
    "from pathlib import Path\n",
    "\n",
    "# Find Path\n",
    "school_data_path = Path(\"Resources/schools_complete.csv\")\n",
    "student_data_path = Path(\"Resources/students_complete.csv\")\n",
    "\n",
    "# Read files and import into Dataframes\n",
    "school_data = pd.read_csv(school_data_path)\n",
    "student_data = pd.read_csv(student_data_path)\n",
    "\n",
    "# Merge the two datasets into one\n",
    "merged_data = pd.merge(student_data, school_data, how=\"left\", on=[\"school_name\", \"school_name\"])\n",
    "merged_data.head()"
   ]
  },
  {
   "cell_type": "markdown",
   "id": "7d08b675-9696-4cfb-accc-1f99fcf94d74",
   "metadata": {},
   "source": [
    "District Summary"
   ]
  },
  {
   "cell_type": "code",
   "execution_count": 49,
   "id": "e9d3b37c-3db0-4e4b-ac6d-4ed7d4dee2c8",
   "metadata": {},
   "outputs": [
    {
     "name": "stdout",
     "output_type": "stream",
     "text": [
      "15\n"
     ]
    }
   ],
   "source": [
    "# Total number of unique schools\n",
    "total_schools = len(merged_data['school_name'].unique())\n",
    "print (total_schools)"
   ]
  },
  {
   "cell_type": "code",
   "execution_count": 52,
   "id": "44faac74-6e3d-4504-aac1-e9553a3b7568",
   "metadata": {},
   "outputs": [
    {
     "name": "stdout",
     "output_type": "stream",
     "text": [
      "39170\n"
     ]
    }
   ],
   "source": [
    "# Total students\n",
    "total_students = len(merged_data['Student ID'].unique())\n",
    "print (total_students)"
   ]
  },
  {
   "cell_type": "code",
   "execution_count": 24,
   "id": "82fbe5ca-a5bc-4d64-bc38-d6d8b4c68d8a",
   "metadata": {},
   "outputs": [
    {
     "name": "stdout",
     "output_type": "stream",
     "text": [
      "24649428\n"
     ]
    }
   ],
   "source": [
    "# Total budget\n",
    "total_budget = school_data.budget.sum()\n",
    "print (total_budget)"
   ]
  },
  {
   "cell_type": "code",
   "execution_count": 25,
   "id": "88a5b2b6-c184-49ad-a64f-23c625479db7",
   "metadata": {},
   "outputs": [
    {
     "name": "stdout",
     "output_type": "stream",
     "text": [
      "78.98537145774827\n"
     ]
    }
   ],
   "source": [
    "# Average math score\n",
    "avg_math = merged_data.math_score.mean()\n",
    "print (avg_math)"
   ]
  },
  {
   "cell_type": "code",
   "execution_count": 26,
   "id": "60040f1d-8548-4bd3-9818-750c36e4a9b4",
   "metadata": {},
   "outputs": [
    {
     "name": "stdout",
     "output_type": "stream",
     "text": [
      "81.87784018381414\n"
     ]
    }
   ],
   "source": [
    "# Average reading score\n",
    "avg_reading = merged_data.reading_score.mean()\n",
    "print (avg_reading)"
   ]
  },
  {
   "cell_type": "code",
   "execution_count": 47,
   "id": "dc324940-e2fb-45a5-a723-ae3be33c1ac9",
   "metadata": {},
   "outputs": [
    {
     "name": "stdout",
     "output_type": "stream",
     "text": [
      "29370\n",
      "74.9808526933878\n"
     ]
    }
   ],
   "source": [
    "# % passing math (the percentage of students who passed math)\n",
    "passing_mcount = merged_data[merged_data[\"math_score\"] >=70].count()[\"student_name\"]\n",
    "print(passing_mcount)\n",
    "passing_mpercentage = passing_mcount/total_students * 100\n",
    "print(passing_mpercentage)"
   ]
  },
  {
   "cell_type": "code",
   "execution_count": 40,
   "id": "851efe91-05c2-4749-b6e7-9bdc8ac5f775",
   "metadata": {},
   "outputs": [
    {
     "name": "stdout",
     "output_type": "stream",
     "text": [
      "33610\n",
      "85.80546336482001\n"
     ]
    }
   ],
   "source": [
    "# % passing reading (the percentage of students who passed reading)\n",
    "passing_rcount = merged_data[merged_data[\"reading_score\"] >=70].count()[\"student_name\"]\n",
    "print(passing_rcount)\n",
    "passing_rpercentage = passing_rcount/total_students * 100\n",
    "print(passing_rpercentage)"
   ]
  },
  {
   "cell_type": "code",
   "execution_count": 53,
   "id": "25e025bd-7f9a-432b-a3ca-0d9ddf200035",
   "metadata": {},
   "outputs": [
    {
     "name": "stdout",
     "output_type": "stream",
     "text": [
      "25528\n",
      "65.17232575950983\n"
     ]
    }
   ],
   "source": [
    "# % overall passing (the percentage of students who passed math AND reading)\n",
    "pass_count = merged_data[(merged_data[\"reading_score\"] >=70) & (merged_data[\"math_score\"] >=70)].count()[\"student_name\"]\n",
    "print(pass_count)\n",
    "pass_percentage = pass_count/total_students * 100\n",
    "print(pass_percentage)"
   ]
  },
  {
   "cell_type": "code",
   "execution_count": 63,
   "id": "61111690-8b5b-4318-b76a-bffb06288765",
   "metadata": {},
   "outputs": [
    {
     "data": {
      "text/html": [
       "<div>\n",
       "<style scoped>\n",
       "    .dataframe tbody tr th:only-of-type {\n",
       "        vertical-align: middle;\n",
       "    }\n",
       "\n",
       "    .dataframe tbody tr th {\n",
       "        vertical-align: top;\n",
       "    }\n",
       "\n",
       "    .dataframe thead th {\n",
       "        text-align: right;\n",
       "    }\n",
       "</style>\n",
       "<table border=\"1\" class=\"dataframe\">\n",
       "  <thead>\n",
       "    <tr style=\"text-align: right;\">\n",
       "      <th></th>\n",
       "      <th>Total Schools</th>\n",
       "      <th>Total Students</th>\n",
       "      <th>Total Budget</th>\n",
       "      <th>Average Math Score</th>\n",
       "      <th>Average Reading Score</th>\n",
       "      <th>% Passing Math</th>\n",
       "      <th>% Passing Reading</th>\n",
       "      <th>% Overall Passing</th>\n",
       "    </tr>\n",
       "  </thead>\n",
       "  <tbody>\n",
       "    <tr>\n",
       "      <th>0</th>\n",
       "      <td>15</td>\n",
       "      <td>39,170</td>\n",
       "      <td>$24,649,428</td>\n",
       "      <td>78.99</td>\n",
       "      <td>81.88</td>\n",
       "      <td>74.98%</td>\n",
       "      <td>85.81%</td>\n",
       "      <td>65.17%</td>\n",
       "    </tr>\n",
       "  </tbody>\n",
       "</table>\n",
       "</div>"
      ],
      "text/plain": [
       "  Total Schools Total Students Total Budget Average Math Score  \\\n",
       "0            15         39,170  $24,649,428              78.99   \n",
       "\n",
       "  Average Reading Score % Passing Math % Passing Reading % Overall Passing  \n",
       "0                 81.88         74.98%            85.81%            65.17%  "
      ]
     },
     "execution_count": 63,
     "metadata": {},
     "output_type": "execute_result"
    }
   ],
   "source": [
    "# create a high-level snapshot of the district's key metrics in a Dataframe\n",
    "district_df = pd.DataFrame({\n",
    "    \"Total Schools\": f\"{total_schools}\",\n",
    "    \"Total Students\": f\"{total_students:,}\",\n",
    "    \"Total Budget\": f\"${total_budget:,}\",\n",
    "    \"Average Math Score\": f\"{avg_math:.2f}\",\n",
    "    \"Average Reading Score\": f\"{avg_reading:.2f}\", \n",
    "    \"% Passing Math\": f\"{passing_mpercentage:.2f}%\",\n",
    "    \"% Passing Reading\": f\"{passing_rpercentage:.2f}%\", \n",
    "    \"% Overall Passing\": f\"{pass_percentage:.2f}%\"\n",
    "                                               }, index=[0])\n",
    "\n",
    "district_df"
   ]
  },
  {
   "cell_type": "code",
   "execution_count": null,
   "id": "ef8fdfe8-f2d6-431c-90e6-44b87d7d87d1",
   "metadata": {},
   "outputs": [],
   "source": []
  },
  {
   "cell_type": "code",
   "execution_count": null,
   "id": "8e9fcda3-baa9-4481-899d-b2402d810baf",
   "metadata": {},
   "outputs": [],
   "source": []
  },
  {
   "cell_type": "code",
   "execution_count": null,
   "id": "96a625ab-6b4a-4303-bdc3-77b5b2f2bd23",
   "metadata": {},
   "outputs": [],
   "source": []
  },
  {
   "cell_type": "code",
   "execution_count": null,
   "id": "71718725-27c0-4af6-a96d-f1ab2d34f2ae",
   "metadata": {},
   "outputs": [],
   "source": []
  },
  {
   "cell_type": "code",
   "execution_count": null,
   "id": "a55ec6a8-fb03-4d06-88d3-d943dcf204b6",
   "metadata": {},
   "outputs": [],
   "source": []
  },
  {
   "cell_type": "code",
   "execution_count": null,
   "id": "31099883-8f1f-49a4-b086-7dd9acfc8e16",
   "metadata": {},
   "outputs": [],
   "source": []
  },
  {
   "cell_type": "code",
   "execution_count": null,
   "id": "58dfacea-fc21-4bbe-8e6e-b3e5d86d7da8",
   "metadata": {},
   "outputs": [],
   "source": []
  },
  {
   "cell_type": "code",
   "execution_count": null,
   "id": "1e4a3e5a-f590-44b8-b108-c07a60e6c135",
   "metadata": {},
   "outputs": [],
   "source": []
  }
 ],
 "metadata": {
  "kernelspec": {
   "display_name": "Python 3 (ipykernel)",
   "language": "python",
   "name": "python3"
  },
  "language_info": {
   "codemirror_mode": {
    "name": "ipython",
    "version": 3
   },
   "file_extension": ".py",
   "mimetype": "text/x-python",
   "name": "python",
   "nbconvert_exporter": "python",
   "pygments_lexer": "ipython3",
   "version": "3.10.10"
  }
 },
 "nbformat": 4,
 "nbformat_minor": 5
}
